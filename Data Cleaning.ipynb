{
 "cells": [
  {
   "cell_type": "code",
   "execution_count": 2,
   "metadata": {},
   "outputs": [],
   "source": [
    "import pandas as pd\n",
    "import numpy as np\n",
    "import seaborn as sns\n",
    "from matplotlib import pyplot as plt\n",
    "from pandas_profiling import ProfileReport\n"
   ]
  },
  {
   "cell_type": "code",
   "execution_count": 3,
   "metadata": {},
   "outputs": [
    {
     "data": {
      "text/html": [
       "<div>\n",
       "<style scoped>\n",
       "    .dataframe tbody tr th:only-of-type {\n",
       "        vertical-align: middle;\n",
       "    }\n",
       "\n",
       "    .dataframe tbody tr th {\n",
       "        vertical-align: top;\n",
       "    }\n",
       "\n",
       "    .dataframe thead th {\n",
       "        text-align: right;\n",
       "    }\n",
       "</style>\n",
       "<table border=\"1\" class=\"dataframe\">\n",
       "  <thead>\n",
       "    <tr style=\"text-align: right;\">\n",
       "      <th></th>\n",
       "      <th>Country</th>\n",
       "      <th>Region</th>\n",
       "      <th>Population</th>\n",
       "      <th>Area (sq. mi.)</th>\n",
       "      <th>Pop. Density (per sq. mi.)</th>\n",
       "      <th>Coastline (coast/area ratio)</th>\n",
       "      <th>Net migration</th>\n",
       "      <th>Infant mortality (per 1000 births)</th>\n",
       "      <th>GDP ($ per capita)</th>\n",
       "      <th>Literacy (%)</th>\n",
       "      <th>Phones (per 1000)</th>\n",
       "      <th>Arable (%)</th>\n",
       "      <th>Crops (%)</th>\n",
       "      <th>Other (%)</th>\n",
       "      <th>Climate</th>\n",
       "      <th>Birthrate</th>\n",
       "      <th>Deathrate</th>\n",
       "      <th>Agriculture</th>\n",
       "      <th>Industry</th>\n",
       "      <th>Service</th>\n",
       "    </tr>\n",
       "  </thead>\n",
       "  <tbody>\n",
       "    <tr>\n",
       "      <th>0</th>\n",
       "      <td>Afghanistan</td>\n",
       "      <td>ASIA (EX. NEAR EAST)</td>\n",
       "      <td>31056997</td>\n",
       "      <td>647500</td>\n",
       "      <td>48,0</td>\n",
       "      <td>0,00</td>\n",
       "      <td>23,06</td>\n",
       "      <td>163,07</td>\n",
       "      <td>700.0</td>\n",
       "      <td>36,0</td>\n",
       "      <td>3,2</td>\n",
       "      <td>12,13</td>\n",
       "      <td>0,22</td>\n",
       "      <td>87,65</td>\n",
       "      <td>1</td>\n",
       "      <td>46,6</td>\n",
       "      <td>20,34</td>\n",
       "      <td>0,38</td>\n",
       "      <td>0,24</td>\n",
       "      <td>0,38</td>\n",
       "    </tr>\n",
       "    <tr>\n",
       "      <th>1</th>\n",
       "      <td>Albania</td>\n",
       "      <td>EASTERN EUROPE</td>\n",
       "      <td>3581655</td>\n",
       "      <td>28748</td>\n",
       "      <td>124,6</td>\n",
       "      <td>1,26</td>\n",
       "      <td>-4,93</td>\n",
       "      <td>21,52</td>\n",
       "      <td>4500.0</td>\n",
       "      <td>86,5</td>\n",
       "      <td>71,2</td>\n",
       "      <td>21,09</td>\n",
       "      <td>4,42</td>\n",
       "      <td>74,49</td>\n",
       "      <td>3</td>\n",
       "      <td>15,11</td>\n",
       "      <td>5,22</td>\n",
       "      <td>0,232</td>\n",
       "      <td>0,188</td>\n",
       "      <td>0,579</td>\n",
       "    </tr>\n",
       "    <tr>\n",
       "      <th>2</th>\n",
       "      <td>Algeria</td>\n",
       "      <td>NORTHERN AFRICA</td>\n",
       "      <td>32930091</td>\n",
       "      <td>2381740</td>\n",
       "      <td>13,8</td>\n",
       "      <td>0,04</td>\n",
       "      <td>-0,39</td>\n",
       "      <td>31</td>\n",
       "      <td>6000.0</td>\n",
       "      <td>70,0</td>\n",
       "      <td>78,1</td>\n",
       "      <td>3,22</td>\n",
       "      <td>0,25</td>\n",
       "      <td>96,53</td>\n",
       "      <td>1</td>\n",
       "      <td>17,14</td>\n",
       "      <td>4,61</td>\n",
       "      <td>0,101</td>\n",
       "      <td>0,6</td>\n",
       "      <td>0,298</td>\n",
       "    </tr>\n",
       "    <tr>\n",
       "      <th>3</th>\n",
       "      <td>American Samoa</td>\n",
       "      <td>OCEANIA</td>\n",
       "      <td>57794</td>\n",
       "      <td>199</td>\n",
       "      <td>290,4</td>\n",
       "      <td>58,29</td>\n",
       "      <td>-20,71</td>\n",
       "      <td>9,27</td>\n",
       "      <td>8000.0</td>\n",
       "      <td>97,0</td>\n",
       "      <td>259,5</td>\n",
       "      <td>10</td>\n",
       "      <td>15</td>\n",
       "      <td>75</td>\n",
       "      <td>2</td>\n",
       "      <td>22,46</td>\n",
       "      <td>3,27</td>\n",
       "      <td>NaN</td>\n",
       "      <td>NaN</td>\n",
       "      <td>NaN</td>\n",
       "    </tr>\n",
       "    <tr>\n",
       "      <th>4</th>\n",
       "      <td>Andorra</td>\n",
       "      <td>WESTERN EUROPE</td>\n",
       "      <td>71201</td>\n",
       "      <td>468</td>\n",
       "      <td>152,1</td>\n",
       "      <td>0,00</td>\n",
       "      <td>6,6</td>\n",
       "      <td>4,05</td>\n",
       "      <td>19000.0</td>\n",
       "      <td>100,0</td>\n",
       "      <td>497,2</td>\n",
       "      <td>2,22</td>\n",
       "      <td>0</td>\n",
       "      <td>97,78</td>\n",
       "      <td>3</td>\n",
       "      <td>8,71</td>\n",
       "      <td>6,25</td>\n",
       "      <td>NaN</td>\n",
       "      <td>NaN</td>\n",
       "      <td>NaN</td>\n",
       "    </tr>\n",
       "  </tbody>\n",
       "</table>\n",
       "</div>"
      ],
      "text/plain": [
       "           Country                               Region  Population  \\\n",
       "0     Afghanistan         ASIA (EX. NEAR EAST)             31056997   \n",
       "1         Albania   EASTERN EUROPE                          3581655   \n",
       "2         Algeria   NORTHERN AFRICA                        32930091   \n",
       "3  American Samoa   OCEANIA                                   57794   \n",
       "4         Andorra   WESTERN EUROPE                            71201   \n",
       "\n",
       "   Area (sq. mi.) Pop. Density (per sq. mi.) Coastline (coast/area ratio)  \\\n",
       "0          647500                       48,0                         0,00   \n",
       "1           28748                      124,6                         1,26   \n",
       "2         2381740                       13,8                         0,04   \n",
       "3             199                      290,4                        58,29   \n",
       "4             468                      152,1                         0,00   \n",
       "\n",
       "  Net migration Infant mortality (per 1000 births)  GDP ($ per capita)  \\\n",
       "0         23,06                             163,07               700.0   \n",
       "1         -4,93                              21,52              4500.0   \n",
       "2         -0,39                                 31              6000.0   \n",
       "3        -20,71                               9,27              8000.0   \n",
       "4           6,6                               4,05             19000.0   \n",
       "\n",
       "  Literacy (%) Phones (per 1000) Arable (%) Crops (%) Other (%) Climate  \\\n",
       "0         36,0               3,2      12,13      0,22     87,65       1   \n",
       "1         86,5              71,2      21,09      4,42     74,49       3   \n",
       "2         70,0              78,1       3,22      0,25     96,53       1   \n",
       "3         97,0             259,5         10        15        75       2   \n",
       "4        100,0             497,2       2,22         0     97,78       3   \n",
       "\n",
       "  Birthrate Deathrate Agriculture Industry Service  \n",
       "0      46,6     20,34        0,38     0,24    0,38  \n",
       "1     15,11      5,22       0,232    0,188   0,579  \n",
       "2     17,14      4,61       0,101      0,6   0,298  \n",
       "3     22,46      3,27         NaN      NaN     NaN  \n",
       "4      8,71      6,25         NaN      NaN     NaN  "
      ]
     },
     "execution_count": 3,
     "metadata": {},
     "output_type": "execute_result"
    }
   ],
   "source": [
    "df = pd.read_csv('countries of the world.csv')\n",
    "df.head()"
   ]
  },
  {
   "cell_type": "code",
   "execution_count": 3,
   "metadata": {},
   "outputs": [],
   "source": [
    "#Change column names\n",
    "#Deal with missing values\n",
    "#Change data types\n",
    "#Columns\n",
    "    #Region - Choose region categories and rename without caps and fill white space\n",
    "    #Population and Area - Add commas\n",
    "    #Check then change data types as many columns are off (use function?)\n",
    "    \n",
    "    \n",
    "    "
   ]
  },
  {
   "cell_type": "markdown",
   "metadata": {},
   "source": [
    "## Change Column Names"
   ]
  },
  {
   "cell_type": "code",
   "execution_count": 4,
   "metadata": {},
   "outputs": [
    {
     "data": {
      "text/plain": [
       "Index(['country', 'region', 'population', 'area', 'population_density',\n",
       "       'coastline', 'net_migration', 'infant_mortality', 'gdp',\n",
       "       'literacy_rate', 'phones', 'arable_land', 'crops', 'other', 'climate',\n",
       "       'birthrate', 'deathrate', 'agriculture', 'industry', 'service'],\n",
       "      dtype='object')"
      ]
     },
     "execution_count": 4,
     "metadata": {},
     "output_type": "execute_result"
    }
   ],
   "source": [
    "df.columns = (['country', 'region', 'population', 'area', 'population_density', 'coastline',\n",
    "               'net_migration', 'infant_mortality', 'gdp', 'literacy_rate', 'phones', 'arable_land',\n",
    "              'crops', 'other', 'climate', 'birthrate', 'deathrate', 'agriculture', 'industry',\n",
    "               'service'])\n",
    "df.columns"
   ]
  },
  {
   "cell_type": "code",
   "execution_count": 5,
   "metadata": {},
   "outputs": [
    {
     "data": {
      "text/plain": [
       "country                object\n",
       "region                 object\n",
       "population              int64\n",
       "area                    int64\n",
       "population_density     object\n",
       "coastline              object\n",
       "net_migration          object\n",
       "infant_mortality       object\n",
       "gdp                   float64\n",
       "literacy_rate          object\n",
       "phones                 object\n",
       "arable_land            object\n",
       "crops                  object\n",
       "other                  object\n",
       "climate                object\n",
       "birthrate              object\n",
       "deathrate              object\n",
       "agriculture            object\n",
       "industry               object\n",
       "service                object\n",
       "dtype: object"
      ]
     },
     "execution_count": 5,
     "metadata": {},
     "output_type": "execute_result"
    }
   ],
   "source": [
    "df.dtypes"
   ]
  },
  {
   "cell_type": "markdown",
   "metadata": {},
   "source": [
    "## Change objects to float values"
   ]
  },
  {
   "cell_type": "code",
   "execution_count": 5,
   "metadata": {},
   "outputs": [],
   "source": [
    "df['population_density'] = df['population_density'].apply(lambda x: float(str(x).replace(',', '.')))\n",
    "df['coastline'] = df['coastline'].apply(lambda x: float(str(x).replace(',', '.')))\n",
    "df['net_migration'] = df['net_migration'].apply(lambda x: float(str(x).replace(',', '.')))\n",
    "df['infant_mortality'] = df['infant_mortality'].apply(lambda x: float(str(x).replace(',', '.')))\n",
    "df['literacy_rate'] = df['literacy_rate'].apply(lambda x: float(str(x).replace(',', '.')))\n",
    "df['phones'] = df['phones'].apply(lambda x: float(str(x).replace(',', '.')))\n",
    "df['arable_land'] = df['arable_land'].apply(lambda x: float(str(x).replace(',', '.')))\n",
    "df['crops'] = df['crops'].apply(lambda x: float(str(x).replace(',', '.')))\n",
    "df['other'] = df['other'].apply(lambda x: float(str(x).replace(',', '.')))\n",
    "df['climate'] = df['climate'].apply(lambda x: float(str(x).replace(',', '.')))\n",
    "df['birthrate'] = df['birthrate'].apply(lambda x: float(str(x).replace(',', '.')))\n",
    "df['deathrate'] = df['deathrate'].apply(lambda x: float(str(x).replace(',', '.')))\n",
    "df['agriculture'] = df['agriculture'].apply(lambda x: float(str(x).replace(',', '.')))\n",
    "df['industry'] = df['industry'].apply(lambda x: float(str(x).replace(',', '.')))\n",
    "df['service'] = df['service'].apply(lambda x: float(str(x).replace(',', '.')))\n",
    "\n",
    "\n",
    "\n",
    "    "
   ]
  },
  {
   "cell_type": "markdown",
   "metadata": {},
   "source": [
    "## Strip all white spaces from the region column"
   ]
  },
  {
   "cell_type": "code",
   "execution_count": 7,
   "metadata": {},
   "outputs": [],
   "source": [
    "df['region'] = df['region'].str.strip()\n"
   ]
  },
  {
   "cell_type": "markdown",
   "metadata": {},
   "source": [
    "## Fill missing values"
   ]
  },
  {
   "cell_type": "code",
   "execution_count": 8,
   "metadata": {},
   "outputs": [
    {
     "data": {
      "text/plain": [
       "country                0\n",
       "region                 0\n",
       "population             0\n",
       "area                   0\n",
       "population_density     0\n",
       "coastline              0\n",
       "net_migration          3\n",
       "infant_mortality       3\n",
       "gdp                    1\n",
       "literacy_rate         18\n",
       "phones                 4\n",
       "arable_land            2\n",
       "crops                  2\n",
       "other                  2\n",
       "climate               22\n",
       "birthrate              3\n",
       "deathrate              4\n",
       "agriculture           15\n",
       "industry              16\n",
       "service               15\n",
       "dtype: int64"
      ]
     },
     "execution_count": 8,
     "metadata": {},
     "output_type": "execute_result"
    }
   ],
   "source": [
    "##First we see which columns have missing value\n",
    "df.isnull().sum()\n",
    " "
   ]
  },
  {
   "cell_type": "markdown",
   "metadata": {},
   "source": [
    "### For numerical features with many outliers - fill with Median\n",
    "### For numerical features with a minimal amount of outliers - fill with Mean\n",
    "### For categorical features - fill with Mode\n",
    "\n",
    "#### Note: Boxplots used to determine how NA features will be filled. Commented out Boxplots to display one at a time"
   ]
  },
  {
   "cell_type": "code",
   "execution_count": 10,
   "metadata": {},
   "outputs": [
    {
     "data": {
      "text/plain": [
       "<AxesSubplot:xlabel='deathrate'>"
      ]
     },
     "execution_count": 10,
     "metadata": {},
     "output_type": "execute_result"
    },
    {
     "data": {
      "image/png": "[encoded data removed]",
      "text/plain": [
       "<Figure size 432x288 with 1 Axes>"
      ]
     },
     "metadata": {
      "needs_background": "light"
     },
     "output_type": "display_data"
    }
   ],
   "source": [
    "#Fill Median - net migration, crops, industry \n",
    "#Fill Mean -  infant morality, gdp, literacy rate, phones, arable land, other, birthrate, service, agriculture \n",
    "#Fill Mode - climate\n",
    "#sns.boxplot(x=df['industry'])\n",
    "#sns.boxplot(x=df['net_migration'])\n",
    "#sns.boxplot(x=df['infant_mortality'])\n",
    "#sns.boxplot(x=df['gdp'])\n",
    "#sns.boxplot(x=df['literacy_rate'])\n",
    "#sns.boxplot(x=df['phones'])\n",
    "#sns.boxplot(x=df['arable_land'])\n",
    "#sns.boxplot(x=df['crops'])\n",
    "#sns.boxplot(x=df['other'])\n",
    "#sns.boxplot(x=df['climate'])\n",
    "#sns.boxplot(x=df['birthrate'])\n",
    "#sns.boxplot(x=df['agriculture'])\n",
    "#sns.boxplot(x=df['service'])\n",
    "sns.boxplot(x=df['deathrate'])\n",
    "\n"
   ]
  },
  {
   "cell_type": "markdown",
   "metadata": {},
   "source": [
    "### We use boxplots as a tool in part to display the amount of outliers each variable has. The following variables will be filled in by the Median due to the large amount of outliers found: net migration, crops and industry. \n",
    "\n",
    "### The rest of the variables will be filled in by the Mean. However, the only exception is Climate which, by default, as a categorical feature will be filled by the Mode.\n",
    "    "
   ]
  },
  {
   "cell_type": "code",
   "execution_count": 9,
   "metadata": {},
   "outputs": [],
   "source": [
    "#Median\n",
    "cols_med = ['net_migration', 'crops', 'industry']\n",
    "df[cols_med] = df[cols_med].fillna((df[cols_med].median()))\n",
    "\n",
    "#Mean\n",
    "cols_mean = ['infant_mortality', 'gdp', 'literacy_rate', 'phones', 'arable_land', 'other', 'birthrate', 'agriculture', 'service', 'deathrate']\n",
    "df[cols_mean] = df[cols_mean].fillna((df[cols_mean].mean()))\n",
    "\n",
    "#Mode - Climate\n",
    "df['climate'] = df['climate'].fillna((df['climate'].mode()[0]))\n"
   ]
  },
  {
   "cell_type": "markdown",
   "metadata": {},
   "source": [
    "### Confirm missing data is filled"
   ]
  },
  {
   "cell_type": "code",
   "execution_count": 11,
   "metadata": {},
   "outputs": [
    {
     "data": {
      "text/plain": [
       "country               0\n",
       "region                0\n",
       "population            0\n",
       "area                  0\n",
       "population_density    0\n",
       "coastline             0\n",
       "net_migration         0\n",
       "infant_mortality      0\n",
       "gdp                   0\n",
       "literacy_rate         0\n",
       "phones                0\n",
       "arable_land           0\n",
       "crops                 0\n",
       "other                 0\n",
       "climate               0\n",
       "birthrate             0\n",
       "deathrate             0\n",
       "agriculture           0\n",
       "industry              0\n",
       "service               0\n",
       "dtype: int64"
      ]
     },
     "execution_count": 11,
     "metadata": {},
     "output_type": "execute_result"
    }
   ],
   "source": [
    "df.isnull().sum()"
   ]
  },
  {
   "cell_type": "markdown",
   "metadata": {},
   "source": [
    "### Create clean dataset"
   ]
  },
  {
   "cell_type": "code",
   "execution_count": 14,
   "metadata": {},
   "outputs": [],
   "source": [
    "df.to_csv('countries_of_the_world_clean.csv', index=False)"
   ]
  },
  {
   "cell_type": "code",
   "execution_count": null,
   "metadata": {},
   "outputs": [],
   "source": []
  },
  {
   "cell_type": "code",
   "execution_count": null,
   "metadata": {},
   "outputs": [],
   "source": []
  }
 ],
 "metadata": {
  "kernelspec": {
   "display_name": "Python 3",
   "language": "python",
   "name": "python3"
  },
  "language_info": {
   "codemirror_mode": {
    "name": "ipython",
    "version": 3
   },
   "file_extension": ".py",
   "mimetype": "text/x-python",
   "name": "python",
   "nbconvert_exporter": "python",
   "pygments_lexer": "ipython3",
   "version": "3.8.5"
  }
 },
 "nbformat": 4,
 "nbformat_minor": 4
}
